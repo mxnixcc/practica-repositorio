{
  "nbformat": 4,
  "nbformat_minor": 0,
  "metadata": {
    "colab": {
      "provenance": [],
      "authorship_tag": "ABX9TyMOgafcnNU51K6Hou/T505l"
    },
    "kernelspec": {
      "name": "python3",
      "display_name": "Python 3"
    },
    "language_info": {
      "name": "python"
    }
  },
  "cells": [
    {
      "cell_type": "code",
      "execution_count": 1,
      "metadata": {
        "colab": {
          "base_uri": "https://localhost:8080/"
        },
        "id": "j0WsLoaL0xm1",
        "outputId": "212369c5-7c89-4805-f086-8714b74bcf74"
      },
      "outputs": [
        {
          "output_type": "stream",
          "name": "stdout",
          "text": [
            "Dame tu nombreDani\n",
            "Ingresa tu edad26\n",
            "Dame tu ocupacionEstudiante\n",
            "Ingresa tu numero e telefono288273\n",
            "Tu nombre es Dani, tienes 26 años. Trabajas en Estudiante y tu número es 288273\n"
          ]
        }
      ],
      "source": [
        "def perfil_usuario():\n",
        "  nombre = input(\"Ingresa tu nombre\")\n",
        "  edad = int(input(\"Ingresa tu edad\"))\n",
        "  ocupacion = input(\"Ingresa tu ocupacion\")\n",
        "  num_telefono = input(\"Ingresa tu numero e telefono\")\n",
        "  print(f\"Tu nombre es {nombre}, tienes {edad} años. Trabajas de {ocupacion} y tu número es {num_telefono}\")\n",
        "\n",
        "perfil_usuario()\n",
        "\n",
        "  #Nombre, edad, ocupación, número de teléfono"
      ]
    }
  ]
}